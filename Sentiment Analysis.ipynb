{
 "cells": [
  {
   "cell_type": "code",
   "execution_count": 3,
   "metadata": {},
   "outputs": [
    {
     "name": "stdout",
     "output_type": "stream",
     "text": [
      "Note: you may need to restart the kernel to use updated packages.Collecting bs4\n",
      "  Downloading bs4-0.0.2-py2.py3-none-any.whl.metadata (411 bytes)\n",
      "Collecting beautifulsoup4 (from bs4)\n",
      "  Downloading beautifulsoup4-4.12.3-py3-none-any.whl.metadata (3.8 kB)\n",
      "Collecting soupsieve>1.2 (from beautifulsoup4->bs4)\n",
      "  Downloading soupsieve-2.6-py3-none-any.whl.metadata (4.6 kB)\n",
      "Downloading bs4-0.0.2-py2.py3-none-any.whl (1.2 kB)\n",
      "Downloading beautifulsoup4-4.12.3-py3-none-any.whl (147 kB)\n",
      "Downloading soupsieve-2.6-py3-none-any.whl (36 kB)\n",
      "Installing collected packages: soupsieve, beautifulsoup4, bs4\n",
      "Successfully installed beautifulsoup4-4.12.3 bs4-0.0.2 soupsieve-2.6\n",
      "\n"
     ]
    },
    {
     "name": "stderr",
     "output_type": "stream",
     "text": [
      "\n",
      "[notice] A new release of pip is available: 24.2 -> 24.3.1\n",
      "[notice] To update, run: C:\\Users\\Manju\\AppData\\Local\\Microsoft\\WindowsApps\\PythonSoftwareFoundation.Python.3.11_qbz5n2kfra8p0\\python.exe -m pip install --upgrade pip\n"
     ]
    }
   ],
   "source": [
    "pip install bs4"
   ]
  },
  {
   "cell_type": "code",
   "execution_count": null,
   "metadata": {},
   "outputs": [
    {
     "name": "stdout",
     "output_type": "stream",
     "text": [
      "News headlines collected and saved to 'news_headlines.csv'\n"
     ]
    }
   ],
   "source": [
    "import requests\n",
    "from bs4 import BeautifulSoup\n",
    "import pandas as pd\n",
    "\n",
    "# URL of the news website\n",
    "url = \"https://www.bbc.com/news\"\n",
    "\n",
    "headers = {\n",
    "    \"User-Agent\": \"Mozilla/5.0 (Windows NT 10.0; Win64; x64) AppleWebKit/537.36 (KHTML, like Gecko) Chrome/91.0.4472.124 Safari/537.36\"\n",
    "}\n",
    "response = requests.get(url, headers=headers)\n",
    "\n",
    "soup = BeautifulSoup(response.content, \"html.parser\")\n",
    "\n",
    "# Extract headlines\n",
    "headlines = []\n",
    "for item in soup.find_all(\"h3\"):\n",
    "    headline = item.text.strip()\n",
    "    if headline:  \n",
    "        headlines.append(headline)\n",
    "\n",
    "# Save to a DataFrame\n",
    "data = pd.DataFrame(headlines, columns=[\"Headline\"])\n",
    "\n",
    "# Save to CSV\n",
    "data.to_csv(\"news_headlines.csv\", index=False)\n",
    "print(\"News headlines collected and saved to 'news_headlines.csv'\")\n",
    "\n"
   ]
  },
  {
   "cell_type": "code",
   "execution_count": null,
   "metadata": {},
   "outputs": [
    {
     "name": "stdout",
     "output_type": "stream",
     "text": [
      "Text preprocessing complete!\n"
     ]
    }
   ],
   "source": [
    "# Clean headlines\n",
    "def preprocess_text(text):\n",
    "    text = re.sub(r'[^\\w\\s]', '', text.lower())\n",
    "    return text\n",
    "\n",
    "# Apply preprocessing\n",
    "data['Cleaned_Headline'] = data['Headline'].apply(preprocess_text)\n",
    "print(\"Text preprocessing complete!\")\n"
   ]
  },
  {
   "cell_type": "code",
   "execution_count": 9,
   "metadata": {},
   "outputs": [
    {
     "name": "stdout",
     "output_type": "stream",
     "text": [
      "Collecting azure-ai-textanalytics\n",
      "  Downloading azure_ai_textanalytics-5.3.0-py3-none-any.whl.metadata (82 kB)\n",
      "Collecting azure-core<2.0.0,>=1.24.0 (from azure-ai-textanalytics)\n",
      "  Downloading azure_core-1.32.0-py3-none-any.whl.metadata (39 kB)\n",
      "Collecting azure-common~=1.1 (from azure-ai-textanalytics)\n",
      "  Downloading azure_common-1.1.28-py2.py3-none-any.whl.metadata (5.0 kB)\n",
      "Collecting isodate<1.0.0,>=0.6.1 (from azure-ai-textanalytics)\n",
      "  Downloading isodate-0.7.2-py3-none-any.whl.metadata (11 kB)\n",
      "Requirement already satisfied: typing-extensions>=4.0.1 in c:\\users\\manju\\appdata\\local\\packages\\pythonsoftwarefoundation.python.3.11_qbz5n2kfra8p0\\localcache\\local-packages\\python311\\site-packages (from azure-ai-textanalytics) (4.12.2)\n",
      "Requirement already satisfied: requests>=2.21.0 in c:\\users\\manju\\appdata\\local\\packages\\pythonsoftwarefoundation.python.3.11_qbz5n2kfra8p0\\localcache\\local-packages\\python311\\site-packages (from azure-core<2.0.0,>=1.24.0->azure-ai-textanalytics) (2.32.3)\n",
      "Requirement already satisfied: six>=1.11.0 in c:\\users\\manju\\appdata\\local\\packages\\pythonsoftwarefoundation.python.3.11_qbz5n2kfra8p0\\localcache\\local-packages\\python311\\site-packages (from azure-core<2.0.0,>=1.24.0->azure-ai-textanalytics) (1.16.0)\n",
      "Requirement already satisfied: charset-normalizer<4,>=2 in c:\\users\\manju\\appdata\\local\\packages\\pythonsoftwarefoundation.python.3.11_qbz5n2kfra8p0\\localcache\\local-packages\\python311\\site-packages (from requests>=2.21.0->azure-core<2.0.0,>=1.24.0->azure-ai-textanalytics) (3.3.2)\n",
      "Requirement already satisfied: idna<4,>=2.5 in c:\\users\\manju\\appdata\\local\\packages\\pythonsoftwarefoundation.python.3.11_qbz5n2kfra8p0\\localcache\\local-packages\\python311\\site-packages (from requests>=2.21.0->azure-core<2.0.0,>=1.24.0->azure-ai-textanalytics) (3.7)\n",
      "Requirement already satisfied: urllib3<3,>=1.21.1 in c:\\users\\manju\\appdata\\local\\packages\\pythonsoftwarefoundation.python.3.11_qbz5n2kfra8p0\\localcache\\local-packages\\python311\\site-packages (from requests>=2.21.0->azure-core<2.0.0,>=1.24.0->azure-ai-textanalytics) (2.2.2)\n",
      "Requirement already satisfied: certifi>=2017.4.17 in c:\\users\\manju\\appdata\\local\\packages\\pythonsoftwarefoundation.python.3.11_qbz5n2kfra8p0\\localcache\\local-packages\\python311\\site-packages (from requests>=2.21.0->azure-core<2.0.0,>=1.24.0->azure-ai-textanalytics) (2024.7.4)\n",
      "Downloading azure_ai_textanalytics-5.3.0-py3-none-any.whl (298 kB)\n",
      "Downloading azure_common-1.1.28-py2.py3-none-any.whl (14 kB)\n",
      "Downloading azure_core-1.32.0-py3-none-any.whl (198 kB)\n",
      "Downloading isodate-0.7.2-py3-none-any.whl (22 kB)\n",
      "Installing collected packages: azure-common, isodate, azure-core, azure-ai-textanalytics\n",
      "Successfully installed azure-ai-textanalytics-5.3.0 azure-common-1.1.28 azure-core-1.32.0 isodate-0.7.2\n",
      "Note: you may need to restart the kernel to use updated packages.\n"
     ]
    },
    {
     "name": "stderr",
     "output_type": "stream",
     "text": [
      "\n",
      "[notice] A new release of pip is available: 24.2 -> 24.3.1\n",
      "[notice] To update, run: C:\\Users\\Manju\\AppData\\Local\\Microsoft\\WindowsApps\\PythonSoftwareFoundation.Python.3.11_qbz5n2kfra8p0\\python.exe -m pip install --upgrade pip\n"
     ]
    }
   ],
   "source": [
    "pip install azure-ai-textanalytics\n"
   ]
  },
  {
   "cell_type": "code",
   "execution_count": null,
   "metadata": {},
   "outputs": [
    {
     "name": "stdout",
     "output_type": "stream",
     "text": [
      "[{'id': '0', 'text': 'The product launch was a huge success.'}, {'id': '1', 'text': 'Heavy rains are expected in the coming days.'}, {'id': '2', 'text': 'The team won the championship in a thrilling match.'}, {'id': '3', 'text': 'The stock market experienced a major decline yesterday.'}, {'id': '4', 'text': 'Groundbreaking medical discovery announced today.'}]\n"
     ]
    }
   ],
   "source": [
    "# Example sample data\n",
    "data = pd.DataFrame({\"Cleaned_Headline\": [\n",
    "    \"The product launch was a huge success.\",\n",
    "    \"Heavy rains are expected in the coming days.\",\n",
    "    \"The team won the championship in a thrilling match.\",\n",
    "    \"The stock market experienced a major decline yesterday.\",\n",
    "    \"Groundbreaking medical discovery announced today.\"\n",
    "]})\n",
    "\n",
    "# Prepare documents\n",
    "documents = [{\"id\": str(i), \"text\": text} for i, text in enumerate(data['Cleaned_Headline'].tolist())]\n",
    "\n",
    "print(documents) \n"
   ]
  },
  {
   "cell_type": "code",
   "execution_count": 12,
   "metadata": {},
   "outputs": [
    {
     "name": "stdout",
     "output_type": "stream",
     "text": [
      "Sentiment analysis complete! Results saved to 'sentiment_results.csv'\n"
     ]
    }
   ],
   "source": [
    "from azure.ai.textanalytics import TextAnalyticsClient\n",
    "from azure.core.credentials import AzureKeyCredential\n",
    "\n",
    "# Azure credentials (replace with yours)\n",
    "endpoint = \"https://sentimentaltextanalaysis.cognitiveservices.azure.com/\"\n",
    "api_key = \"1jwUSTjEc1e0sb3GCYeKlo9bB1y2PC7RFuIg4lwe15xPAMTaMsgyJQQJ99AKACYeBjFXJ3w3AAAEACOGwyYm\"\n",
    "\n",
    "# Authenticate client\n",
    "def authenticate_client():\n",
    "    credential = AzureKeyCredential(api_key)\n",
    "    text_analytics_client = TextAnalyticsClient(endpoint=endpoint, credential=credential)\n",
    "    return text_analytics_client\n",
    "\n",
    "client = authenticate_client()\n",
    "\n",
    "# Prepare data for API\n",
    "documents = [{\"id\": str(i), \"text\": text} for i, text in enumerate(data['Cleaned_Headline'].tolist())]\n",
    "\n",
    "# Analyze sentiments\n",
    "def analyze_sentiments(client, documents):\n",
    "    response = client.analyze_sentiment(documents=documents)\n",
    "    sentiments = []\n",
    "    for doc in response:\n",
    "        if not doc.is_error:\n",
    "            sentiments.append({\n",
    "                \"Sentiment\": doc.sentiment,\n",
    "                \"Positive_Score\": doc.confidence_scores.positive,\n",
    "                \"Negative_Score\": doc.confidence_scores.negative,\n",
    "                \"Neutral_Score\": doc.confidence_scores.neutral\n",
    "            })\n",
    "        else:\n",
    "            sentiments.append({\"Sentiment\": \"Error\", \"Positive_Score\": 0, \"Negative_Score\": 0, \"Neutral_Score\": 0})\n",
    "    return sentiments\n",
    "\n",
    "# Get sentiment analysis results\n",
    "sentiment_results = analyze_sentiments(client, documents)\n",
    "\n",
    "# Add results to DataFrame\n",
    "for key in sentiment_results[0].keys():\n",
    "    data[key] = [res[key] for res in sentiment_results]\n",
    "\n",
    "data.to_csv(\"sentiment_results.csv\", index=False)\n",
    "print(\"Sentiment analysis complete! Results saved to 'sentiment_results.csv'\")\n"
   ]
  },
  {
   "cell_type": "code",
   "execution_count": 14,
   "metadata": {},
   "outputs": [
    {
     "name": "stdout",
     "output_type": "stream",
     "text": [
      "Collecting azure-storage-blob\n",
      "  Downloading azure_storage_blob-12.24.0-py3-none-any.whl.metadata (26 kB)\n",
      "Requirement already satisfied: azure-core>=1.30.0 in c:\\users\\manju\\appdata\\local\\packages\\pythonsoftwarefoundation.python.3.11_qbz5n2kfra8p0\\localcache\\local-packages\\python311\\site-packages (from azure-storage-blob) (1.32.0)\n",
      "Collecting cryptography>=2.1.4 (from azure-storage-blob)\n",
      "  Downloading cryptography-43.0.3-cp39-abi3-win_amd64.whl.metadata (5.4 kB)\n",
      "Requirement already satisfied: typing-extensions>=4.6.0 in c:\\users\\manju\\appdata\\local\\packages\\pythonsoftwarefoundation.python.3.11_qbz5n2kfra8p0\\localcache\\local-packages\\python311\\site-packages (from azure-storage-blob) (4.12.2)\n",
      "Requirement already satisfied: isodate>=0.6.1 in c:\\users\\manju\\appdata\\local\\packages\\pythonsoftwarefoundation.python.3.11_qbz5n2kfra8p0\\localcache\\local-packages\\python311\\site-packages (from azure-storage-blob) (0.7.2)\n",
      "Requirement already satisfied: requests>=2.21.0 in c:\\users\\manju\\appdata\\local\\packages\\pythonsoftwarefoundation.python.3.11_qbz5n2kfra8p0\\localcache\\local-packages\\python311\\site-packages (from azure-core>=1.30.0->azure-storage-blob) (2.32.3)\n",
      "Requirement already satisfied: six>=1.11.0 in c:\\users\\manju\\appdata\\local\\packages\\pythonsoftwarefoundation.python.3.11_qbz5n2kfra8p0\\localcache\\local-packages\\python311\\site-packages (from azure-core>=1.30.0->azure-storage-blob) (1.16.0)\n",
      "Collecting cffi>=1.12 (from cryptography>=2.1.4->azure-storage-blob)\n",
      "  Using cached cffi-1.17.1-cp311-cp311-win_amd64.whl.metadata (1.6 kB)\n",
      "Collecting pycparser (from cffi>=1.12->cryptography>=2.1.4->azure-storage-blob)\n",
      "  Using cached pycparser-2.22-py3-none-any.whl.metadata (943 bytes)\n",
      "Requirement already satisfied: charset-normalizer<4,>=2 in c:\\users\\manju\\appdata\\local\\packages\\pythonsoftwarefoundation.python.3.11_qbz5n2kfra8p0\\localcache\\local-packages\\python311\\site-packages (from requests>=2.21.0->azure-core>=1.30.0->azure-storage-blob) (3.3.2)\n",
      "Requirement already satisfied: idna<4,>=2.5 in c:\\users\\manju\\appdata\\local\\packages\\pythonsoftwarefoundation.python.3.11_qbz5n2kfra8p0\\localcache\\local-packages\\python311\\site-packages (from requests>=2.21.0->azure-core>=1.30.0->azure-storage-blob) (3.7)\n",
      "Requirement already satisfied: urllib3<3,>=1.21.1 in c:\\users\\manju\\appdata\\local\\packages\\pythonsoftwarefoundation.python.3.11_qbz5n2kfra8p0\\localcache\\local-packages\\python311\\site-packages (from requests>=2.21.0->azure-core>=1.30.0->azure-storage-blob) (2.2.2)\n",
      "Requirement already satisfied: certifi>=2017.4.17 in c:\\users\\manju\\appdata\\local\\packages\\pythonsoftwarefoundation.python.3.11_qbz5n2kfra8p0\\localcache\\local-packages\\python311\\site-packages (from requests>=2.21.0->azure-core>=1.30.0->azure-storage-blob) (2024.7.4)\n",
      "Downloading azure_storage_blob-12.24.0-py3-none-any.whl (408 kB)\n",
      "Downloading cryptography-43.0.3-cp39-abi3-win_amd64.whl (3.1 MB)\n",
      "   ---------------------------------------- 0.0/3.1 MB ? eta -:--:--\n",
      "   ---------------------------------------- 3.1/3.1 MB 30.2 MB/s eta 0:00:00\n",
      "Using cached cffi-1.17.1-cp311-cp311-win_amd64.whl (181 kB)\n",
      "Using cached pycparser-2.22-py3-none-any.whl (117 kB)\n",
      "Installing collected packages: pycparser, cffi, cryptography, azure-storage-blob\n",
      "Successfully installed azure-storage-blob-12.24.0 cffi-1.17.1 cryptography-43.0.3 pycparser-2.22\n",
      "Note: you may need to restart the kernel to use updated packages.\n"
     ]
    },
    {
     "name": "stderr",
     "output_type": "stream",
     "text": [
      "\n",
      "[notice] A new release of pip is available: 24.2 -> 24.3.1\n",
      "[notice] To update, run: C:\\Users\\Manju\\AppData\\Local\\Microsoft\\WindowsApps\\PythonSoftwareFoundation.Python.3.11_qbz5n2kfra8p0\\python.exe -m pip install --upgrade pip\n"
     ]
    }
   ],
   "source": [
    "pip install azure-storage-blob\n"
   ]
  },
  {
   "cell_type": "code",
   "execution_count": 16,
   "metadata": {},
   "outputs": [
    {
     "name": "stdout",
     "output_type": "stream",
     "text": [
      "File uploaded to Azure Blob Storage!\n"
     ]
    }
   ],
   "source": [
    "from azure.storage.blob import BlobServiceClient\n",
    "\n",
    "# Replace these with your values\n",
    "connection_string = \"DefaultEndpointsProtocol=https;AccountName=sentimentalresults;AccountKey=eWDWQjReJKTdBb+EpzAvjtOaMENOJoTlT5eFQX85IrWzwhmiTuK5FXSr0UCRg7CBYNJjGbFuXDxi+AStQky4hA==;EndpointSuffix=core.windows.net\"\n",
    "container_name = \"sentimental-results\"\n",
    "\n",
    "# Connect to Azure Blob Storage\n",
    "blob_service_client = BlobServiceClient.from_connection_string(connection_string)\n",
    "\n",
    "# Upload a file\n",
    "blob_client = blob_service_client.get_blob_client(container=container_name, blob=\"sentiment_results.csv\")\n",
    "\n",
    "# Upload the file\n",
    "with open(\"sentiment_results.csv\", \"rb\") as data:\n",
    "    blob_client.upload_blob(data, overwrite=True)\n",
    "\n",
    "print(\"File uploaded to Azure Blob Storage!\")\n"
   ]
  }
 ],
 "metadata": {
  "kernelspec": {
   "display_name": "Python 3",
   "language": "python",
   "name": "python3"
  },
  "language_info": {
   "codemirror_mode": {
    "name": "ipython",
    "version": 3
   },
   "file_extension": ".py",
   "mimetype": "text/x-python",
   "name": "python",
   "nbconvert_exporter": "python",
   "pygments_lexer": "ipython3",
   "version": "3.11.9"
  }
 },
 "nbformat": 4,
 "nbformat_minor": 2
}
